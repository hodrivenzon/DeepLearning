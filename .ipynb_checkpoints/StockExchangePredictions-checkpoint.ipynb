{
 "cells": [
  {
   "cell_type": "code",
   "execution_count": 1,
   "metadata": {},
   "outputs": [
    {
     "name": "stdout",
     "output_type": "stream",
     "text": [
      "C:\\Users\\hodda\\PycharmProjects: ['Bootcamp', 'predeleak', 'TimeSeriesForecasting', 'waterDemand', 'waterDemand_V2']\n",
      "C:\\Users\\hodda\\PycharmProjects\\TimeSeriesForecasting: ['.git', '.idea', '.ipynb_checkpoints', 'datasets', 'main.py', 'StockExchangePredictions.ipynb']\n"
     ]
    }
   ],
   "source": [
    "import numpy as np\n",
    "import pandas as pd\n",
    "import math\n",
    "import sklearn\n",
    "import sklearn.preprocessing\n",
    "import datetime\n",
    "import os\n",
    "import matplotlib.pyplot as plt\n",
    "import tensorflow as tf\n",
    "\n",
    "# split data in 80%/10%/10% train/validation/test sets\n",
    "valid_set_size_percentage = 10 \n",
    "test_set_size_percentage = 10 \n",
    "\n",
    "#display parent directory and working directory\n",
    "print(os.path.dirname(os.getcwd())+':', os.listdir(os.path.dirname(os.getcwd())));\n",
    "print(os.getcwd()+':', os.listdir(os.getcwd()));"
   ]
  },
  {
   "cell_type": "code",
   "execution_count": 3,
   "metadata": {},
   "outputs": [
    {
     "name": "stdout",
     "output_type": "stream",
     "text": [
      "<class 'pandas.core.frame.DataFrame'>\n",
      "Index: 851264 entries, 2016-01-05 to 2016-12-30\n",
      "Data columns (total 6 columns):\n",
      " #   Column  Non-Null Count   Dtype  \n",
      "---  ------  --------------   -----  \n",
      " 0   symbol  851264 non-null  object \n",
      " 1   open    851264 non-null  float64\n",
      " 2   close   851264 non-null  float64\n",
      " 3   low     851264 non-null  float64\n",
      " 4   high    851264 non-null  float64\n",
      " 5   volume  851264 non-null  float64\n",
      "dtypes: float64(5), object(1)\n",
      "memory usage: 45.5+ MB\n",
      "\n",
      "number of different stocks:  501\n",
      "['DVN', 'ALLE', 'PYPL', 'MCK', 'K', 'EBAY', 'XL', 'ROP', 'CSCO', 'DPS']\n"
     ]
    }
   ],
   "source": [
    "# import all stock prices \n",
    "df = pd.read_csv(\"datasets\\stockExchangeData\\prices-split-adjusted.csv\", index_col = 0)\n",
    "df.info()\n",
    "df.head()\n",
    "\n",
    "# number of different stocks\n",
    "print('\\nnumber of different stocks: ', len(list(set(df.symbol))))\n",
    "print(list(set(df.symbol))[:10])"
   ]
  }
 ],
 "metadata": {
  "kernelspec": {
   "display_name": "waterDemand",
   "language": "python",
   "name": "waterdemand"
  },
  "language_info": {
   "codemirror_mode": {
    "name": "ipython",
    "version": 3
   },
   "file_extension": ".py",
   "mimetype": "text/x-python",
   "name": "python",
   "nbconvert_exporter": "python",
   "pygments_lexer": "ipython3",
   "version": "3.8.5"
  }
 },
 "nbformat": 4,
 "nbformat_minor": 4
}
